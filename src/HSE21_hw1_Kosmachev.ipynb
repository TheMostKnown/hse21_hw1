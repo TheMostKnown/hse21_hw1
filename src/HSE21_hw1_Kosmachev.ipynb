{
  "nbformat": 4,
  "nbformat_minor": 0,
  "metadata": {
    "colab": {
      "name": "HSE21_hw1_Kosmachev.ipynb",
      "provenance": [],
      "collapsed_sections": []
    },
    "kernelspec": {
      "name": "python3",
      "display_name": "Python 3"
    },
    "language_info": {
      "name": "python"
    }
  },
  "cells": [
    {
      "cell_type": "markdown",
      "metadata": {
        "id": "O4sjo3kIMywP"
      },
      "source": [
        "# Анализ файлов для домашнего задания 1\n",
        "Выполнил Космачев Алексей"
      ]
    },
    {
      "cell_type": "code",
      "metadata": {
        "colab": {
          "base_uri": "https://localhost:8080/"
        },
        "id": "EETBd_ROLUkF",
        "outputId": "27588ba7-1d1d-414f-e514-2b657079fb4d"
      },
      "source": [
        "!pip install biopython"
      ],
      "execution_count": 30,
      "outputs": [
        {
          "output_type": "stream",
          "name": "stdout",
          "text": [
            "Requirement already satisfied: biopython in /usr/local/lib/python3.7/dist-packages (1.79)\n",
            "Requirement already satisfied: numpy in /usr/local/lib/python3.7/dist-packages (from biopython) (1.19.5)\n"
          ]
        }
      ]
    },
    {
      "cell_type": "code",
      "metadata": {
        "id": "UnrGbHzjMski"
      },
      "source": [
        "# Импорт необходимых библиотек\n",
        "from Bio import SeqIO\n",
        "import re\n",
        "import matplotlib.pyplot as plt"
      ],
      "execution_count": 31,
      "outputs": []
    },
    {
      "cell_type": "code",
      "metadata": {
        "id": "xi3cukmuNCBj"
      },
      "source": [
        "# Информация по контингам и скаффолдам\n",
        "def common_info(data):\n",
        "  total_len = 0\n",
        "  max_len = 0\n",
        "  for elem in data:\n",
        "    total_len += len(elem)\n",
        "    max_len = max(max_len, len(elem))\n",
        "  \n",
        "  score = 0\n",
        "  for i in range(len(data)):\n",
        "    if score >= total_len/2:\n",
        "      break\n",
        "    n50 = len(data[i])\n",
        "    score += n50\n",
        "\n",
        "  print(f'Total length: {total_len}')\n",
        "  print(f'The longest contig/scaffold size: {max_len}')\n",
        "  print(f'N50: {n50}')"
      ],
      "execution_count": 40,
      "outputs": []
    },
    {
      "cell_type": "code",
      "metadata": {
        "id": "vjT6sYWJNX0L"
      },
      "source": [
        "# Количество гэпов\n",
        "def gap_counter(data):\n",
        "  print(f'Total gap count: {len(re.findall(r\"[N]+\", str(data.seq)))}')\n",
        "  print(f'Total Gap symbols (N) count: {str(data.seq).count(\"N\")}')"
      ],
      "execution_count": 33,
      "outputs": []
    },
    {
      "cell_type": "code",
      "metadata": {
        "id": "2CfHGD-RNe6f"
      },
      "source": [
        "# Читаем данные из файлов\n",
        "given_data = list(SeqIO.parse(\"out_contig.fa\", \"fasta\"))\n",
        "scaffold = list(SeqIO.parse(\"out_scaffold.fa\", \"fasta\"))\n",
        "gap_closed = list(SeqIO.parse(\"out_gapClosed.fa\", \"fasta\"))"
      ],
      "execution_count": 34,
      "outputs": []
    },
    {
      "cell_type": "code",
      "metadata": {
        "colab": {
          "base_uri": "https://localhost:8080/"
        },
        "id": "9MZ8dFM7V8zM",
        "outputId": "11a1052f-f218-4c3b-8447-a730f9286e82"
      },
      "source": [
        "# Нахождение наибольшего скаффолда\n",
        "longest_scaf = scaffold[0]\n",
        "for elem in scaffold:\n",
        "  if len(elem) > len(longest_scaf):\n",
        "    longest_scaf = elem\n",
        "\n",
        "SeqIO.write([longest_scaf], 'longest.fa', \"fasta\")"
      ],
      "execution_count": 35,
      "outputs": [
        {
          "output_type": "execute_result",
          "data": {
            "text/plain": [
              "1"
            ]
          },
          "metadata": {},
          "execution_count": 35
        }
      ]
    },
    {
      "cell_type": "code",
      "metadata": {
        "id": "X2-IsREVXYem"
      },
      "source": [
        "longest_gclosed = gap_closed[0]\n",
        "for elem in gap_closed:\n",
        "  if len(elem) > len(longest_gclosed):\n",
        "    longest_gclosed = elem"
      ],
      "execution_count": 36,
      "outputs": []
    },
    {
      "cell_type": "code",
      "metadata": {
        "colab": {
          "base_uri": "https://localhost:8080/"
        },
        "id": "2OaNzHpqNihz",
        "outputId": "60ee09c4-f5ed-4ab4-aa91-04ca8d808a02"
      },
      "source": [
        "print(f'Contigs in total: {len(given_data)}')\n",
        "common_info(given_data)\n",
        "print()\n",
        "\n",
        "print(f'Scaffold records in total: {len(scaffold)}')\n",
        "common_info(scaffold)\n",
        "print()\n",
        "\n",
        "print(f'Scaffold the longest contig')\n",
        "gap_counter(longest_scaf)\n",
        "print()\n",
        "\n",
        "print(f'Gap closed scaffold the longest contig')\n",
        "gap_counter(longest_gclosed)"
      ],
      "execution_count": 41,
      "outputs": [
        {
          "output_type": "stream",
          "name": "stdout",
          "text": [
            "Contigs in total: 602\n",
            "Total length: 3924567\n",
            "The longest contig/scaffold size: 179307\n",
            "N50: 41576\n",
            "\n",
            "Scaffold records in total: 69\n",
            "Total length: 3875426\n",
            "The longest contig/scaffold size: 3834374\n",
            "N50: 3834374\n",
            "\n",
            "Scaffold the longest contig\n",
            "Total gap count: 60\n",
            "Total Gap symbols (N) count: 6534\n",
            "\n",
            "Gap closed scaffold the longest contig\n",
            "Total gap count: 9\n",
            "Total Gap symbols (N) count: 2003\n"
          ]
        }
      ]
    }
  ]
}